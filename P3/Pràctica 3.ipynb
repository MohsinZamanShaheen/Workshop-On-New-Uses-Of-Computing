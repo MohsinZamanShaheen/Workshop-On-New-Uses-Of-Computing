{
 "cells": [
  {
   "cell_type": "markdown",
   "metadata": {},
   "source": [
    "# Naive Bayes i Classificació\n"
   ]
  },
  {
   "cell_type": "markdown",
   "metadata": {},
   "source": [
    "En aquest tercer lliurament es programarà un classificador, que donada una *piulada*, la categoritzarà en una de les possibles classes. En aquesta ocasió, implementareu un classificador amb *piulades* relacionades amb el *cyber bullying*.\n",
    "\n",
    "Recordeu que l'objectiu principal d'aquesta pràctica és desenvolupar un classificador amb una *accuracy* alta. \n",
    "\n",
    "\n",
    "**Què s’ha de fer?**\n",
    "\n",
    "Volem classificar *piulades* segons a quin tipus de *cyber bullying* pertanyen. Així doncs, a partir de tots les *piulades* que tenim, crearem un vector de característiques que ens descrigui cadascuna. A continuació desenvoluparem un classificador probabilístic del tipus **Naive Bayes** que ens permeti identificar a quina classe de *cyber bullying* pertany una *piulada* donada, segons les característiques disenyades.\n",
    "\n",
    "\n",
    "**Quina és la idea del sistema de classificació que s’ha de desenvolupar?**\n",
    "\n",
    "El classificador és un concepte de l'aprenentatge automàtic supervisat. L'objectiu del classificador és donat un vector de característiques que descriuen els objectes que es volen classificar indicar a quina categoria o classe pertanyen d'entre un conjunt predeterminat. \n",
    "\n",
    "El procés de classificació consta de dues parts: \n",
    "\n",
    "+ el procés d'aprenentatge i \n",
    "+ el procés d'explotació o testeig. \n",
    "\n",
    "El procés d'aprenentatge rep exemples de parelles $(x,y)$ on $x$ són les característiques, usualment representades per nombres reals, i $y$ és la categoria a la que pertanyen. \n",
    "Aquest conjunt se'l coneix com a conjunt d'entrenament i ens servirà per trobar una funció $\\hat{y}=f(x)$ que donada una $x$ aconsegueixi que $\\hat{y}$ sigui semblant $y$. \n",
    "\n",
    "Per altra banda el procés de testeig aplica la funció $f(x)$ apresa a l'entrenament a a dades no presents en el conjunt d'aprenentatge per avaluar el classificador.\n",
    "\n",
    "**Classificació i llenguatge natural**\n",
    "\n",
    "La descripció dels exemples en característiques és el punt més crític de tot sistema d'aprenentatge automàtic. \n",
    "Una de les representacions més simples per tal de descriure un text és la representació [\"bag-of-words\"](https://en.wikipedia.org/wiki/Bag-of-words_model).\n",
    "\n",
    "Aquesta representació converteix un text en un vector de $N$ paraules. \n",
    "Primer haurem de seleccionar el conjunt d'$N$ paraules que volem fer servir. Després, per cada paraula comptar quants cops apareix en el text. \n",
    "\n",
    "Una versió alternativa i més simple d'aquest procés pot ser simplement indicar al vector si una determinada paraula apareix o no en el text."
   ]
  },
  {
   "cell_type": "markdown",
   "metadata": {},
   "source": [
    "## Abans de començar\n",
    "\n",
    "\n",
    "**\\+ Durant la pràctica, solament es podran fer servir les següents llibreries**:\n",
    "\n",
    "`Pandas, Numpy, Re` i `NLTK`\n",
    "\n",
    "Python té un paquet integrat anomenat [\"re\"](https://www.w3schools.com/python/python_regex.asp), que es pot utilitzar per treballar amb expressions regulars. És molt aconsellable fer servir aquest paquet per processar les paraules.\n",
    "\n",
    "**\\+ No es poden modificar les definicions de les funcions donades, ni canviar els noms de les variables i paràmetres ja donats**\n",
    "\n",
    "Això no implica però que els hàgiu de fer servir. És a dir, que la funció tingui un paràmetre anomenat `df` no implica que l'hàgiu de fer servir, si no ho trobeu convenient.\n",
    "\n",
    "**\\+ En les funcions, s'especifica que serà i de quin tipus cada un dels paràmetres, cal respectar-ho**\n",
    "\n",
    "Per exemple (ho posarà en el pydoc de la funció), `df` sempre serà indicatiu del `Pandas.DataFrame` de les dades. Durant els testos, els paràmetres (i específicament `df`) no contindran les mateixes dades que en aquest notebook, si bé si seran del mateix tipus! Per tant, no us refieu de què tinguin, per exemple, el mateix nombre de files."
   ]
  },
  {
   "cell_type": "markdown",
   "metadata": {},
   "source": [
    "## Les dades\n",
    "\n",
    "El 15 d'Abril de 2020, UNICEF va llançar una alarma com a resposta de l'augment de risc de *cyber bullying* durant la pandèmia COVID-19. \n",
    "\n",
    "Les estadístiques són prou alarmants: un 36.5% dels estudiants de l'escola fins a l'institut s'han sentit víctimes del *cyber bullying* i un 87% n'han estat testimonis, amb efectes que van des d'una disminució de resultats acadèmics fins a pensaments suïcides.\n",
    "\n",
    "Amb l'objectiu d'ajudar a l'analisis de la situació, s'ha construit un dataset que conté més de 47000 *piulades* etiquetades d'acord amb la classe de *cyber bullying* que s'està donant:\n",
    "\n",
    "1. `age`;\n",
    "2. `ethnicity`;\n",
    "3. `gender`;\n",
    "4. `religion`;\n",
    "5. `other type of cyberbullying`;\n",
    "6. `not cyberbullying`\n",
    "\n",
    "Les dades han estat balancejades per tal de contenir aproximadament 8000 mostres de cada classe."
   ]
  },
  {
   "cell_type": "markdown",
   "metadata": {},
   "source": [
    "# Preparar les dades"
   ]
  },
  {
   "cell_type": "markdown",
   "metadata": {},
   "source": [
    "## Lectura de les dades"
   ]
  },
  {
   "cell_type": "code",
   "execution_count": 906,
   "metadata": {
    "tags": []
   },
   "outputs": [],
   "source": [
    "import pandas as pd\n",
    "import numpy as np\n",
    "import re\n",
    "#import nltk # natural language toolkit\n",
    "#from nltk.corpus import stopwords # stop words in sentences\n",
    "#nltk.download('stopwords')"
   ]
  },
  {
   "cell_type": "code",
   "execution_count": 907,
   "metadata": {
    "tags": []
   },
   "outputs": [
    {
     "data": {
      "text/plain": "                                              tweet_text cyberbullying_type\n0      In other words #katandandre, your food was cra...  not_cyberbullying\n1      Why is #aussietv so white? #MKR #theblock #ImA...  not_cyberbullying\n2      @XochitlSuckkks a classy whore? Or more red ve...  not_cyberbullying\n3      @Jason_Gio meh. :P  thanks for the heads up, b...  not_cyberbullying\n4      @RudhoeEnglish This is an ISIS account pretend...  not_cyberbullying\n...                                                  ...                ...\n47687  Black ppl aren't expected to do anything, depe...          ethnicity\n47688  Turner did not withhold his disappointment. Tu...          ethnicity\n47689  I swear to God. This dumb nigger bitch. I have...          ethnicity\n47690  Yea fuck you RT @therealexel: IF YOURE A NIGGE...          ethnicity\n47691  Bro. U gotta chill RT @CHILLShrammy: Dog FUCK ...          ethnicity\n\n[47692 rows x 2 columns]",
      "text/html": "<div>\n<style scoped>\n    .dataframe tbody tr th:only-of-type {\n        vertical-align: middle;\n    }\n\n    .dataframe tbody tr th {\n        vertical-align: top;\n    }\n\n    .dataframe thead th {\n        text-align: right;\n    }\n</style>\n<table border=\"1\" class=\"dataframe\">\n  <thead>\n    <tr style=\"text-align: right;\">\n      <th></th>\n      <th>tweet_text</th>\n      <th>cyberbullying_type</th>\n    </tr>\n  </thead>\n  <tbody>\n    <tr>\n      <th>0</th>\n      <td>In other words #katandandre, your food was cra...</td>\n      <td>not_cyberbullying</td>\n    </tr>\n    <tr>\n      <th>1</th>\n      <td>Why is #aussietv so white? #MKR #theblock #ImA...</td>\n      <td>not_cyberbullying</td>\n    </tr>\n    <tr>\n      <th>2</th>\n      <td>@XochitlSuckkks a classy whore? Or more red ve...</td>\n      <td>not_cyberbullying</td>\n    </tr>\n    <tr>\n      <th>3</th>\n      <td>@Jason_Gio meh. :P  thanks for the heads up, b...</td>\n      <td>not_cyberbullying</td>\n    </tr>\n    <tr>\n      <th>4</th>\n      <td>@RudhoeEnglish This is an ISIS account pretend...</td>\n      <td>not_cyberbullying</td>\n    </tr>\n    <tr>\n      <th>...</th>\n      <td>...</td>\n      <td>...</td>\n    </tr>\n    <tr>\n      <th>47687</th>\n      <td>Black ppl aren't expected to do anything, depe...</td>\n      <td>ethnicity</td>\n    </tr>\n    <tr>\n      <th>47688</th>\n      <td>Turner did not withhold his disappointment. Tu...</td>\n      <td>ethnicity</td>\n    </tr>\n    <tr>\n      <th>47689</th>\n      <td>I swear to God. This dumb nigger bitch. I have...</td>\n      <td>ethnicity</td>\n    </tr>\n    <tr>\n      <th>47690</th>\n      <td>Yea fuck you RT @therealexel: IF YOURE A NIGGE...</td>\n      <td>ethnicity</td>\n    </tr>\n    <tr>\n      <th>47691</th>\n      <td>Bro. U gotta chill RT @CHILLShrammy: Dog FUCK ...</td>\n      <td>ethnicity</td>\n    </tr>\n  </tbody>\n</table>\n<p>47692 rows × 2 columns</p>\n</div>"
     },
     "execution_count": 907,
     "metadata": {},
     "output_type": "execute_result"
    }
   ],
   "source": [
    "df = pd.read_csv('data/cyberbullying_tweets.csv')\n",
    "df"
   ]
  },
  {
   "cell_type": "code",
   "execution_count": 908,
   "metadata": {},
   "outputs": [
    {
     "data": {
      "text/plain": "religion               7998\nage                    7992\ngender                 7973\nethnicity              7961\nnot_cyberbullying      7945\nother_cyberbullying    7823\nName: cyberbullying_type, dtype: int64"
     },
     "execution_count": 908,
     "metadata": {},
     "output_type": "execute_result"
    }
   ],
   "source": [
    "df['cyberbullying_type'].value_counts()"
   ]
  },
  {
   "cell_type": "markdown",
   "metadata": {},
   "source": [
    "## Preparació del dataset\n",
    "\n",
    "Dividim les *piulades* en un conjunt d'entrenament, *train*, i en un conjunt de validació, *test*, per tal de poder entrenar i validar el nostre model de classificació."
   ]
  },
  {
   "cell_type": "code",
   "execution_count": 909,
   "metadata": {},
   "outputs": [],
   "source": [
    "from sklearn.model_selection import train_test_split\n",
    "\n",
    "df_tweets_train, df_tweets_test = train_test_split(df, test_size=0.2)"
   ]
  },
  {
   "cell_type": "markdown",
   "metadata": {},
   "source": [
    "Com les dades estaven balancejades originalment, podem observar que la distribució de cadascuna de les classes es manté:"
   ]
  },
  {
   "cell_type": "code",
   "execution_count": 910,
   "metadata": {},
   "outputs": [
    {
     "data": {
      "text/plain": "age                    6440\nreligion               6382\ngender                 6373\nethnicity              6360\nother_cyberbullying    6308\nnot_cyberbullying      6290\nName: cyberbullying_type, dtype: int64"
     },
     "execution_count": 910,
     "metadata": {},
     "output_type": "execute_result"
    }
   ],
   "source": [
    "df_tweets_train['cyberbullying_type'].value_counts()"
   ]
  },
  {
   "cell_type": "code",
   "execution_count": 911,
   "metadata": {},
   "outputs": [
    {
     "data": {
      "text/plain": "not_cyberbullying      1655\nreligion               1616\nethnicity              1601\ngender                 1600\nage                    1552\nother_cyberbullying    1515\nName: cyberbullying_type, dtype: int64"
     },
     "execution_count": 911,
     "metadata": {},
     "output_type": "execute_result"
    }
   ],
   "source": [
    "df_tweets_test['cyberbullying_type'].value_counts()"
   ]
  },
  {
   "cell_type": "markdown",
   "metadata": {},
   "source": [
    "# Implementació\n",
    "\n",
    "Dividirem el notebook en 3 seccions que es complementen una a l'altra:\n",
    "\n",
    "1. Anàlisi exploratòria de les dades: Informació bàsica sobre les *piulades*.\n",
    "2. Processament de les dades: Creació d'un vector de característiques a partir de les *piulades*.\n",
    "3. Desenvolupament d'un classificador *Naive Bayes*. "
   ]
  },
  {
   "cell_type": "markdown",
   "metadata": {},
   "source": [
    "### 1. Anàlisis de dades\n",
    "\n",
    "El primer que haurem de fer és analitzar les dades per veure una mica com són. El que us proposem és fer una sèrie de visualitzacions per observar les dades, com ara:\n",
    "\n",
    "* el nombre de *piulades* que s'estan dirigint a una persona en concret\n",
    "* el nombre de  *hashtags* que hi ha a cada categoria de *piulades*\n",
    "* el nombre de  *piulades* que hi ha de cada categoria de *piulades*\n",
    "* el nombre de  *piulades* de la categoria `not_cyberbullying` que es dirigeixen a un usuari vs totes les altres categories\n",
    "* altres coses que penseu que poden ser rellevants."
   ]
  },
  {
   "cell_type": "code",
   "execution_count": 912,
   "metadata": {},
   "outputs": [],
   "source": [
    "import matplotlib.pyplot as plt\n",
    "%matplotlib inline"
   ]
  },
  {
   "cell_type": "code",
   "execution_count": 913,
   "metadata": {
    "tags": []
   },
   "outputs": [
    {
     "data": {
      "text/plain": "                                              tweet_text   cyberbullying_type\n19204  Tliab & omar ARE radicalized islamists! They s...             religion\n46839  @ESPNNFL Fuck michael brown dumb nigger got wh...            ethnicity\n28590  RT @mirandalyn_: I HATE WHEN SOMEONES IN A REL...  other_cyberbullying\n31621  like, thanks for that. i never would have know...  other_cyberbullying\n40770  I’m sorry you see things this way. Proving you...            ethnicity",
      "text/html": "<div>\n<style scoped>\n    .dataframe tbody tr th:only-of-type {\n        vertical-align: middle;\n    }\n\n    .dataframe tbody tr th {\n        vertical-align: top;\n    }\n\n    .dataframe thead th {\n        text-align: right;\n    }\n</style>\n<table border=\"1\" class=\"dataframe\">\n  <thead>\n    <tr style=\"text-align: right;\">\n      <th></th>\n      <th>tweet_text</th>\n      <th>cyberbullying_type</th>\n    </tr>\n  </thead>\n  <tbody>\n    <tr>\n      <th>19204</th>\n      <td>Tliab &amp; omar ARE radicalized islamists! They s...</td>\n      <td>religion</td>\n    </tr>\n    <tr>\n      <th>46839</th>\n      <td>@ESPNNFL Fuck michael brown dumb nigger got wh...</td>\n      <td>ethnicity</td>\n    </tr>\n    <tr>\n      <th>28590</th>\n      <td>RT @mirandalyn_: I HATE WHEN SOMEONES IN A REL...</td>\n      <td>other_cyberbullying</td>\n    </tr>\n    <tr>\n      <th>31621</th>\n      <td>like, thanks for that. i never would have know...</td>\n      <td>other_cyberbullying</td>\n    </tr>\n    <tr>\n      <th>40770</th>\n      <td>I’m sorry you see things this way. Proving you...</td>\n      <td>ethnicity</td>\n    </tr>\n  </tbody>\n</table>\n</div>"
     },
     "execution_count": 913,
     "metadata": {},
     "output_type": "execute_result"
    }
   ],
   "source": [
    "df_tweets_train.head()"
   ]
  },
  {
   "cell_type": "markdown",
   "metadata": {},
   "source": [
    "#### **EXERCICI 1:** \n",
    "\n",
    "* Quantes *piulades* estan dirigides a un usuari concret? Diem que una piulada va dirigida a una persona en concret si contenen el patró ``@usuari``. \n",
    "\n",
    "[Restriccions](https://help.twitter.com/en/managing-your-account/change-twitter-handle) que imposa X sobre el patró:\n",
    "+ Nomes són valids aquells patrons amb caràcters alfanumèrics ``[A-z 0-9]`` i el caràcter ``_``\n",
    "+ Els patrons han de començar per ``@`` i han de tenir més de 4 i menys de 16 caràcters.\n",
    "\n",
    "En aquest exercici és extremadament útil l'ús del mòdul ``re``."
   ]
  },
  {
   "cell_type": "code",
   "execution_count": 914,
   "metadata": {},
   "outputs": [
    {
     "data": {
      "text/plain": "17901"
     },
     "execution_count": 914,
     "metadata": {},
     "output_type": "execute_result"
    }
   ],
   "source": [
    "# El vostre codi aquí\n",
    "def count_rows_with_pattern(text):\n",
    "    matches = re.findall(r'@\\w{5,15}', text)\n",
    "    return len(matches) > 0\n",
    "\n",
    "count = df['tweet_text'].apply(count_rows_with_pattern).sum()\n",
    "count"
   ]
  },
  {
   "cell_type": "markdown",
   "metadata": {},
   "source": [
    "+ Quants *hashtags* ``#`` hi ha a cada categoria de *piulades*?\n",
    "\n",
    "Compteu els ``#`` que vagin seguits d'alguna lletra o nombre ja que, com veiem a la [normativa](https://help.twitter.com/en/using-twitter/how-to-use-hashtags) de X, els ``#`` no poden contenir cap mena de signe de puntuació."
   ]
  },
  {
   "cell_type": "code",
   "execution_count": 915,
   "metadata": {},
   "outputs": [
    {
     "data": {
      "text/plain": "cyberbullying_type\nage                     728\nethnicity              1112\ngender                 2691\nnot_cyberbullying      3265\nother_cyberbullying    1625\nreligion               1798\nName: tweet_text, dtype: int64"
     },
     "execution_count": 915,
     "metadata": {},
     "output_type": "execute_result"
    }
   ],
   "source": [
    "# El vostre codi aquí\n",
    "def count_rows_with_pattern(text):\n",
    "    matches = re.findall(r'#[A-Za-z0-9]+', text)\n",
    "    return len(matches)\n",
    "\n",
    "type_counts = df.groupby('cyberbullying_type')['tweet_text'].apply(lambda x: x.apply(count_rows_with_pattern).sum())\n",
    "type_counts\n"
   ]
  },
  {
   "cell_type": "markdown",
   "metadata": {},
   "source": [
    "+ Fes un histograma que representi aquesta distribució?"
   ]
  },
  {
   "cell_type": "code",
   "execution_count": 916,
   "metadata": {},
   "outputs": [
    {
     "data": {
      "text/plain": "<Figure size 800x600 with 1 Axes>",
      "image/png": "[encoded data removed]"
     },
     "metadata": {},
     "output_type": "display_data"
    }
   ],
   "source": [
    "type_counts = type_counts.rename(index={'other_cyberbullying': 'other'})\n",
    "plt.figure(figsize=(8, 6))\n",
    "type_counts.plot(kind='bar', color='orange')\n",
    "plt.xticks(rotation=0)\n",
    "plt.tight_layout()\n",
    "plt.title('Hashtags')\n",
    "plt.show()\n",
    "type_counts = type_counts.rename(index={'other': 'other_cyberbullying'})"
   ]
  },
  {
   "cell_type": "markdown",
   "metadata": {},
   "source": [
    "+ Comproveu a continuació quantes vegades hi ha un ús invàlid dels ``#``, per exemple ``##`` o ``#@``, on, si no tinguessim en compte la restriccio imposada, hauriem contat 2 ``#`` a ``##`` o 1 ``#`` a ``#@``, quan en realitat son 1 i 0 respectivament."
   ]
  },
  {
   "cell_type": "code",
   "execution_count": 917,
   "metadata": {},
   "outputs": [
    {
     "data": {
      "text/plain": "cyberbullying_type\nage                     8\nethnicity               6\ngender                 30\nnot_cyberbullying      17\nother_cyberbullying    22\nreligion                7\nName: tweet_text, dtype: int64"
     },
     "execution_count": 917,
     "metadata": {},
     "output_type": "execute_result"
    }
   ],
   "source": [
    "# El vostre codi aquí\n",
    "def count_rows_with_pattern(text):\n",
    "    matches = re.findall(r'#[^A-Za-z0-9]+', text)\n",
    "    return len(matches)\n",
    "\n",
    "type_invalid_counts = df.groupby('cyberbullying_type')['tweet_text'].apply(lambda x: x.apply(count_rows_with_pattern).sum())\n",
    "type_invalid_counts"
   ]
  },
  {
   "cell_type": "markdown",
   "metadata": {},
   "source": [
    "+ Quantes *piulades* vàlides hi ha de cada categoria?"
   ]
  },
  {
   "cell_type": "code",
   "execution_count": 918,
   "metadata": {},
   "outputs": [
    {
     "data": {
      "text/plain": "                     tweet_text\ncyberbullying_type             \nage                        7992\nethnicity                  7961\ngender                     7973\nnot_cyberbullying          7945\nother_cyberbullying        7823\nreligion                   7998",
      "text/html": "<div>\n<style scoped>\n    .dataframe tbody tr th:only-of-type {\n        vertical-align: middle;\n    }\n\n    .dataframe tbody tr th {\n        vertical-align: top;\n    }\n\n    .dataframe thead th {\n        text-align: right;\n    }\n</style>\n<table border=\"1\" class=\"dataframe\">\n  <thead>\n    <tr style=\"text-align: right;\">\n      <th></th>\n      <th>tweet_text</th>\n    </tr>\n    <tr>\n      <th>cyberbullying_type</th>\n      <th></th>\n    </tr>\n  </thead>\n  <tbody>\n    <tr>\n      <th>age</th>\n      <td>7992</td>\n    </tr>\n    <tr>\n      <th>ethnicity</th>\n      <td>7961</td>\n    </tr>\n    <tr>\n      <th>gender</th>\n      <td>7973</td>\n    </tr>\n    <tr>\n      <th>not_cyberbullying</th>\n      <td>7945</td>\n    </tr>\n    <tr>\n      <th>other_cyberbullying</th>\n      <td>7823</td>\n    </tr>\n    <tr>\n      <th>religion</th>\n      <td>7998</td>\n    </tr>\n  </tbody>\n</table>\n</div>"
     },
     "execution_count": 918,
     "metadata": {},
     "output_type": "execute_result"
    }
   ],
   "source": [
    "# El vostre codi aquí\n",
    "\n",
    "valid_tweets_category = df.groupby('cyberbullying_type').count()\n",
    "valid_tweets_category"
   ]
  },
  {
   "cell_type": "markdown",
   "metadata": {},
   "source": [
    "+ Quantes *piulades* de la categoria `not_cyberbullying` és dirigeixen a un usuari?\n",
    "+ Quantes *piulades* de totes les altres categories és dirigeixen a un usuari?"
   ]
  },
  {
   "cell_type": "code",
   "execution_count": 952,
   "metadata": {},
   "outputs": [
    {
     "name": "stdout",
     "output_type": "stream",
     "text": [
      "Número total de piulades amb mencions d'usuari per tipus de ciberassetjament:\n",
      "cyberbullying_type\n",
      "age                     363\n",
      "ethnicity              3369\n",
      "gender                 3232\n",
      "not_cyberbullying      4136\n",
      "other_cyberbullying    4790\n",
      "religion               2208\n",
      "Name: tweet_text, dtype: int64 \n",
      "\n",
      "Piulades @usuari not_cyberbullying:  4136\n",
      "Piulades @usuari altres categories:  13962\n"
     ]
    }
   ],
   "source": [
    "# El vostre codi aquí\n",
    "def count_rows_with_pattern(text):\n",
    "    matches = re.findall(r'@\\w+', text)\n",
    "    return len(matches) > 0\n",
    "\n",
    "type_twitt_user_counts = df.groupby('cyberbullying_type')['tweet_text'].apply(lambda x: x.apply(count_rows_with_pattern).sum())\n",
    "\n",
    "print(\"Número total de piulades amb mencions d'usuari per tipus de ciberassetjament:\")\n",
    "print(type_twitt_user_counts, '\\n')\n",
    "\n",
    "print(\"Piulades @usuari not_cyberbullying: \", type_twitt_user_counts['not_cyberbullying'])\n",
    "print(\"Piulades @usuari altres categories: \", type_twitt_user_counts[type_twitt_user_counts.index != 'not_cyberbullying'].sum())"
   ]
  },
  {
   "cell_type": "markdown",
   "metadata": {},
   "source": [
    "+ Calculeu altres coses que penseu que poden ser rellevants (usuaris més mencionats, *hashtags* més comuns per cada categoria, etc.)."
   ]
  },
  {
   "cell_type": "code",
   "execution_count": 920,
   "metadata": {},
   "outputs": [
    {
     "name": "stdout",
     "output_type": "stream",
     "text": [
      "Tres hashtags més comuns:\n",
      "cyberbullying_type\n",
      "age                        [#SFFpit, #MG, #bullying]\n",
      "ethnicity                  [#racism, #coon, #nigger]\n",
      "gender                      [#mkr, #MKR, #notsexist]\n",
      "not_cyberbullying             [#MKR, #mkr, #MKR2015]\n",
      "other_cyberbullying    [#MKR, #mkr, #BlameOneNotAll]\n",
      "religion                     [#Islam, #ISIS, #Jihad]\n",
      "dtype: object \n",
      "\n",
      "Tres usuaris més comuns:\n",
      "cyberbullying_type\n",
      "age                                 [@realDonaldTrump, @Change, @POTUS]\n",
      "ethnicity                  [@tayyoung_, @Colton_Zappe, @MikeSimsWalker]\n",
      "gender                           [@MT8_9, @YesYoureSexist, @RepTedYoho]\n",
      "not_cyberbullying       [@freebsdgirl, @mykitchenrules, @greenlinerzjm]\n",
      "other_cyberbullying    [@freebsdgirl, @TheQuinnspiracy, @ChrisWarcraft]\n",
      "religion               [@MaxBlumenthal, @IsraeliRegime, @sajid_fairooz]\n",
      "dtype: object\n"
     ]
    }
   ],
   "source": [
    "# El vostre codi aquí\n",
    "def top_columns(row, n=3):\n",
    "    top_columns = row.sort_values(ascending=False).head(n)\n",
    "    return top_columns.index.tolist()\n",
    "\n",
    "\n",
    "def count_rows_with_pattern_hashtag(text):\n",
    "    matches = re.findall(r'#[A-Za-z0-9]+', text)\n",
    "    return matches\n",
    "\n",
    "def count_rows_with_pattern_user(text):\n",
    "    matches = re.findall(r'@\\w{5,15}', text)\n",
    "    return matches\n",
    "\n",
    "grouped_df_hashtags = df.groupby('cyberbullying_type')['tweet_text'].apply(lambda x: [count_rows_with_pattern_hashtag(text) for text in x])\n",
    "most_common_words_by_type_hashtags = grouped_df_hashtags.apply(lambda x: pd.Series([item for sublist in x for item in sublist]).value_counts().head(3))\n",
    "result_df_hashtags = most_common_words_by_type_hashtags.apply(top_columns, axis=1)\n",
    "\n",
    "print(\"Tres hashtags més comuns:\")\n",
    "print(result_df_hashtags, '\\n')\n",
    "\n",
    "grouped_df_users = df.groupby('cyberbullying_type')['tweet_text'].apply(lambda x: [count_rows_with_pattern_user(text) for text in x])\n",
    "most_common_words_by_type_users = grouped_df_users.apply(lambda x: pd.Series([item for sublist in x for item in sublist]).value_counts().head(3))\n",
    "result_df_users = most_common_words_by_type_users.apply(top_columns, axis=1)\n",
    "\n",
    "print(\"Tres usuaris més comuns:\")\n",
    "print(result_df_users)"
   ]
  },
  {
   "cell_type": "markdown",
   "metadata": {},
   "source": [
    "### 2. Comptar paraules"
   ]
  },
  {
   "cell_type": "code",
   "execution_count": 921,
   "metadata": {
    "tags": []
   },
   "outputs": [],
   "source": [
    "# No modificar aquesta cel·la, s'encarrega de fer el procés més eficient.\n",
    "# Intenteu entendre quà fa aquesta cel·la\n",
    "\n",
    "def memo(f):\n",
    "    class memodict(dict):\n",
    "        def __init__(self, f):\n",
    "            self.f = f\n",
    "        def __call__(self, *args):\n",
    "            return self[args]\n",
    "        def __missing__(self, key):\n",
    "            ret = self[key] = self.f(*key)\n",
    "            return ret\n",
    "    return memodict(f)\n"
   ]
  },
  {
   "cell_type": "markdown",
   "metadata": {},
   "source": [
    "El primer que haurem d'implementar és la funció ``standardize`` que estandaritzarà les paraules."
   ]
  },
  {
   "cell_type": "markdown",
   "metadata": {},
   "source": [
    "#### **EXERCICI 2:** \n",
    "\n",
    "+ Empleneu la funció següent que, donada una paraula, la estandaritzi les paraules passant tots els caràcters a minúscules.\n",
    "\n",
    "**Observació:** Podeu considerar diverses possibilitats per aquesta funció:\n",
    "* Només canviar les lletres majúscules per minúscules\n",
    "* Eliminar tots els símbols que no siguin @, # i _ (i substituïr-los per un espai)\n",
    "* Eliminar tots els símbols (i substituïr-los per un espai)\n",
    "* etc.\n",
    "\n",
    "El mòdul `re` de Python és especialment útil en aquest punt. \n",
    "\n",
    "Trieu aquella possibilitat que dóna millor resultats a l'exercici 7!"
   ]
  },
  {
   "cell_type": "code",
   "execution_count": 922,
   "metadata": {
    "tags": []
   },
   "outputs": [],
   "source": [
    "@memo    \n",
    "def standardize(word):\n",
    "    \"\"\"\n",
    "    :param word: paraula a estandaritzar\n",
    "    :return : paraula estandaritzada\n",
    "    \"\"\"\n",
    "    result_string = re.sub(r'[A-Z]', lambda x: x.group(0).lower(), word)\n",
    "    #treiem les mencions d'usuaris amb @\n",
    "    #result_string = \" \".join(filter(lambda x: '@' not in x, result_string.split()))\n",
    "    # sustituim carácters especials per buit''\n",
    "    chars_to_remove = ['.', ',', '!', '?', '(', ')', '\"', '”', \"_\", \":\", '&', ';', '|', '#']\n",
    "    result_string = ''.join(char for char in result_string if char not in chars_to_remove)\n",
    "    # descartem paraules petites com \"a\", \"en\" ja que no caracteritzen a cap categoria i no ens serveixen pel ex 5\n",
    "    result_string = \" \".join(filter(lambda x: len(x) >= 3, result_string.split()))\n",
    "    # números\n",
    "    result_string = ''.join(char for char in result_string if not char.isdigit())\n",
    "\n",
    "    return result_string"
   ]
  },
  {
   "cell_type": "code",
   "execution_count": 923,
   "metadata": {},
   "outputs": [
    {
     "data": {
      "text/plain": "'taller dels nous usos'"
     },
     "execution_count": 923,
     "metadata": {},
     "output_type": "execute_result"
    }
   ],
   "source": [
    "standardize(\"Taller DELS noUS USOS\")"
   ]
  },
  {
   "cell_type": "markdown",
   "metadata": {},
   "source": [
    "#### **EXERCICI 3:** \n",
    "\n",
    "+ Feu una funció ``count_words`` que construeixi un diccionari que contingui totes les paraules que s'han trobat al dataset, tot indicant el total de cops que ha aparegut cadascuna i el nombre de piulades on apareix. \n",
    "\n",
    "El resultat ha de ser un diccionari d'aquest tipus (no necessàriament amb aquest valors):\n",
    "\n",
    "```python\n",
    "{\n",
    "    'memory' : {'n_ocur': 88, 'n_piu': 76},\n",
    "    'best': {'n_ocur': 123, 'n_piu': 65},\n",
    "    ...\n",
    "}\n",
    "```"
   ]
  },
  {
   "cell_type": "code",
   "execution_count": 924,
   "metadata": {
    "scrolled": true,
    "tags": []
   },
   "outputs": [],
   "source": [
    "def count_words(df):\n",
    "    \"\"\"\n",
    "    :param df: DataFrame amb les piulades i la informació associada\n",
    "    :return : Diccionari amb el format {word : {n_ocur: valor, n_tweets: valor}, ...}\n",
    "    \"\"\"\n",
    "\n",
    "    # El vostre codi aquí\n",
    "    \n",
    "    dicc = {}\n",
    "\n",
    "    for index, row in df.iterrows():\n",
    "        # Molt Important fer aixo: extandaritzar la paraula a considerar\n",
    "        row_s = standardize(row['tweet_text'])\n",
    "        # Split el text en paraules\n",
    "        words = row_s.split()\n",
    "        \n",
    "        # Vigilem només contar una cop la paraula a n_piu\n",
    "        unique_words_in_row = set()\n",
    "        for word in words:\n",
    "            \n",
    "            \n",
    "            # Si no està la paraula al diccionari, la posem\n",
    "            if word not in dicc:\n",
    "                dicc[word] = {'n_ocur': 1, 'n_piu': 1}\n",
    "                unique_words_in_row.add(word)\n",
    "            else:\n",
    "                # Augmentem n_ocur\n",
    "                dicc[word]['n_ocur'] += 1\n",
    "\n",
    "            # Mirem si ja hem contat la paraula a n_piu\n",
    "            if word not in unique_words_in_row:\n",
    "                dicc[word]['n_piu'] += 1\n",
    "                unique_words_in_row.add(word)\n",
    "\n",
    "    return dicc"
   ]
  },
  {
   "cell_type": "code",
   "execution_count": 925,
   "metadata": {},
   "outputs": [
    {
     "name": "stdout",
     "output_type": "stream",
     "text": [
      "60117\n",
      "'rape': {'n_ocur': 3336, 'n_piu': 3086}\n"
     ]
    }
   ],
   "source": [
    "dicc_text = count_words(df_tweets_train)\n",
    "print (len(dicc_text))\n",
    "print(\"'rape':\",dicc_text['rape'])"
   ]
  },
  {
   "cell_type": "markdown",
   "metadata": {},
   "source": [
    "### 3. Comptar paraules per cada categoria de piulada"
   ]
  },
  {
   "cell_type": "code",
   "execution_count": 926,
   "metadata": {},
   "outputs": [
    {
     "data": {
      "text/plain": "                                              tweet_text   cyberbullying_type\n19204  Tliab & omar ARE radicalized islamists! They s...             religion\n46839  @ESPNNFL Fuck michael brown dumb nigger got wh...            ethnicity\n28590  RT @mirandalyn_: I HATE WHEN SOMEONES IN A REL...  other_cyberbullying\n31621  like, thanks for that. i never would have know...  other_cyberbullying\n40770  I’m sorry you see things this way. Proving you...            ethnicity",
      "text/html": "<div>\n<style scoped>\n    .dataframe tbody tr th:only-of-type {\n        vertical-align: middle;\n    }\n\n    .dataframe tbody tr th {\n        vertical-align: top;\n    }\n\n    .dataframe thead th {\n        text-align: right;\n    }\n</style>\n<table border=\"1\" class=\"dataframe\">\n  <thead>\n    <tr style=\"text-align: right;\">\n      <th></th>\n      <th>tweet_text</th>\n      <th>cyberbullying_type</th>\n    </tr>\n  </thead>\n  <tbody>\n    <tr>\n      <th>19204</th>\n      <td>Tliab &amp; omar ARE radicalized islamists! They s...</td>\n      <td>religion</td>\n    </tr>\n    <tr>\n      <th>46839</th>\n      <td>@ESPNNFL Fuck michael brown dumb nigger got wh...</td>\n      <td>ethnicity</td>\n    </tr>\n    <tr>\n      <th>28590</th>\n      <td>RT @mirandalyn_: I HATE WHEN SOMEONES IN A REL...</td>\n      <td>other_cyberbullying</td>\n    </tr>\n    <tr>\n      <th>31621</th>\n      <td>like, thanks for that. i never would have know...</td>\n      <td>other_cyberbullying</td>\n    </tr>\n    <tr>\n      <th>40770</th>\n      <td>I’m sorry you see things this way. Proving you...</td>\n      <td>ethnicity</td>\n    </tr>\n  </tbody>\n</table>\n</div>"
     },
     "execution_count": 926,
     "metadata": {},
     "output_type": "execute_result"
    }
   ],
   "source": [
    "df_tweets_train.head()"
   ]
  },
  {
   "cell_type": "markdown",
   "metadata": {},
   "source": [
    "#### **EXERCICI 4:** \n",
    "\n",
    "+ Fent servir la funció que se us dona a continuació (`eachTopic`), apliqueu-la per tal de comptar les paraules que s'han trobat i la seva ocurrència segregant ara per categoria.\n",
    "\n",
    "El resultat ha de ser un diccionari d'aquest tipus (no necessàriament amb aquest valors):\n",
    "\n",
    "```python\n",
    "{\n",
    "    'ethnicity': {\n",
    "        'race' : {'n_ocur': 88, 'n_piu': 76},\n",
    "        'what': {'n_ocur': 123, 'n_piu': 65}\n",
    "        ...\n",
    "    },\n",
    "    ...\n",
    "    'gender': {\n",
    "        'jokes' : {'n_ocur': 18, 'n_piu': 17},\n",
    "        'you': {'n_ocur': 154, 'n_piu': 66}\n",
    "    }\n",
    "    ...\n",
    "}\n",
    "```"
   ]
  },
  {
   "cell_type": "code",
   "execution_count": 927,
   "metadata": {
    "tags": []
   },
   "outputs": [],
   "source": [
    "def count_words_categories(df):\n",
    "    \"\"\"\n",
    "    Funció que ha de constuir un diccionari que conté la freqüència de les \n",
    "    paraules i el número de piulades on ha aparegut. \n",
    "    Aquesta informació ha de ser dividida per diferents categories de cyberbullying.\n",
    "    \n",
    "    :param df: DataFrame amb les piulades i la informació associada\n",
    "    :return : Diccionari amb el format {label : {word : {n_ocur: valor, n_news: valor} } }\n",
    "    \"\"\"\n",
    "    words_topic = {}\n",
    "    \n",
    "    def eachTopic(group):\n",
    "        # Count words on this topic and save to dictionary\n",
    "        words_topic[group['cyberbullying_type'].iloc[0]] = count_words(group)\n",
    "\n",
    "    # El vostre codi aquí\n",
    "    df_odrer = df.groupby('cyberbullying_type')\n",
    "\n",
    "    for type in df['cyberbullying_type'].unique():\n",
    "        eachTopic(df_odrer.get_group(type))\n",
    "\n",
    "    return words_topic\n"
   ]
  },
  {
   "cell_type": "code",
   "execution_count": 928,
   "metadata": {},
   "outputs": [
    {
     "name": "stdout",
     "output_type": "stream",
     "text": [
      "Categories: 6\n",
      "La paraula 'muslims' a la categoria 'religion': {'n_ocur': 1873, 'n_piu': 1648}\n"
     ]
    }
   ],
   "source": [
    "words_categories = count_words_categories(df_tweets_train)\n",
    "print (\"Categories:\", len(words_categories))\n",
    "print (\"La paraula 'muslims' a la categoria 'religion':\", words_categories[\"religion\"]['muslims'])"
   ]
  },
  {
   "cell_type": "markdown",
   "metadata": {},
   "source": [
    "### 4. Paraules més freqüents a les piulades\n",
    "\n",
    "\n",
    "**El problema de com escollir el vector de carecterístiques**\n",
    "\n",
    "L'elecció de les paraules que formen el vector de característiques és un pas crític. En funció de com de bona sigui aquesta descripció, millor funcionarà el sistema. Tot i que us deixem a vosaltres la política de creació del vector de característiques us donem una pista: una possible estratègia és agafar aquelles paraules que apareixen entre en un 10 i un 50 percent del total de piludades (sense tenir en compte la categoria). És a dir, paraules que no són ni massa freqüents ni massa poc. Podeu experimentar variant aquests valors.\n",
    "\n",
    "Una altra estratègia interessant és eliminar \"stop words\"."
   ]
  },
  {
   "cell_type": "markdown",
   "metadata": {},
   "source": [
    "#### **EXERCICI 5:** \n",
    "\n",
    "+ Feu una funció ``topNwords`` que crei un diccionari amb les N paraules més representatives (les que apareixen amb més freqüència) de cadascuna de les categories de *cyberbullying* (Tenint en compte que haureu tret aquelles paraules que apareixen en la majoria de piulades, així com també, les que únicament apareixen en un conjunt molt petit de piulades). Una pista de que aneu ben encaminats es que per cadascuna de les categories de *cyberbullying* obtingueu paraules rellevants per aquesta. Si no es així, vol dir que heu d'incrementar el nombre de paraules a saltar (*skip_top*).\n",
    "\n",
    "El resultat serà un diccionari tipus (no necessàriament amb aquest valors):\n",
    "\n",
    "```python\n",
    "{\n",
    "    'age': ['school', 'high', ...],\n",
    "    ...\n",
    "    'religion': ['muslims', 'christian',...]\n",
    "    ...\n",
    "}\n",
    "```\n",
    "\n",
    "+ Experimenteu omplint la llista `skip_top` amb aquelles paraules que penseu no tenen significat o relevancia per definir cada categoria. Podeu buscar informació sobre **stop words** a internet i definir varies llistes fins que penseu que obteniu una bona representació de paraules per categoria de `cyberbullying`."
   ]
  },
  {
   "cell_type": "code",
   "execution_count": 929,
   "metadata": {
    "collapsed": false
   },
   "outputs": [],
   "source": [
    "# crearem una llista amb paraules que no tinguin a veure amb una categoria. Algunes paraules ha sigut trobades d'internet i altres afegides\n",
    "# manualment mirant als tweets del dataset\n",
    "skip_top = [\"twitter\",\"call\",\"hope\",\"hi\", \"bye\", \"the\", \"i\", \"to\", \"a\", \"and\", \"is\", \"in\", \"it\", \"it.\", \"you\", \"of\", \"for\", \"on\", \"my\", \"that\",\n",
    "            \"at\", \"with\", \"me\", \"do\", \"have\", \"just\", \"this\", \"be\", \"so\", \"are\", \"not\", \"was\", \"but\", \"out\", \"up\", \"what\",\n",
    "            \"now\", \"new\", \"from\", \"your\", \"like\", \"good\", \"\", \"no\", \"get\", \"all\", \"about\", \"we\", \"if\", \"time\", \"as\", \"day\",\n",
    "            \"will\", \"one\", \"how\", \"can\", \"some\", \"an\", \"am\", \"by\", \"going\", \"they\", \"go\", \"or\", \"rt\", \"know\", \"today\", \"there\",\n",
    "            \"more\", \"work\", \"too\", \"got\", \"he\", \"back\", \"think\", \"did\", \"when\", \"see\", \"really\", \"had\", \"great\", \"off\", \"would\",\n",
    "            \"need\", \"here\", \"been\", \"still\", \"he's\", \"i’m\", \"don’t\", \"who\", \"want\", \"why\", \"should\", \"well\", \"oh\", \"much\", \"u\",\n",
    "            \"then\", \"make\", \"last\",\"over\", \"way\", \"does\", \"getting\", \"watching\", \"its\", \"only\", \"her\", \"his\", \"very\", \"she\", \"them\", \"could\", \"first\", \"than\", \"our\", \"again\", \"down\", \"im\", \"us\", \"tomorrow\", \"into\", \"any\", \"week\", \"nice\", \"yes\", \"where\", \"take\",\n",
    "            \"next\", \"sure\", \"which\", \"say\", \"also\", \"because\", \"even\", \"most\", \"being\", \"its\", \"one\", \"their\", \"done\", \"him\",\n",
    "            \"never\", \"dont\", \"these\", \"didnt\", \"other\", \"has\", \"mean\", \"years\", \"went\", \"used\", \"those\", \"ur\", \"it’s\", \"cant\",\n",
    "            \"said\", \"thats\", \"past\", \"don't\", \"it's\", \"were\", \"i'm\", \"you're\", \"that's\", \"people\", \"-\", \".\", \"can't\", \"i've\",\n",
    "            \"didn't\", \"making\", \"de\", \"que\", \"makes\", \"same\", \"made\", \"every\", \"always\", \"after\", \"someone\", \"anything\", \"mkr\",\n",
    "            \"isn't\", \"amp\"]"
   ]
  },
  {
   "cell_type": "code",
   "execution_count": 930,
   "metadata": {
    "tags": []
   },
   "outputs": [],
   "source": [
    "def topNwords(df, words, N, skip=[]):\n",
    "    \"\"\"\n",
    "    :param df: DataFrame amb les piulades i la informació associada\n",
    "    :param words: diccionari amb les paraules i la seva frequencia\n",
    "    :param N: número de paraules més representatives que volem considerar\n",
    "    :return : Diccionari amb el format {categoria1: llista_top_words_cat_1,  \n",
    "                                        categoria2: llista_top_words_cat_2, ...} \n",
    "    \"\"\"\n",
    "    top_words=dict()\n",
    "    \n",
    "    #el vostre codi aquí\n",
    "    def each_word(category, word):\n",
    "        # si la paraula esta en la llista de paraules que hem creat, ens saltem aquesta paraula\n",
    "        if word in skip:\n",
    "            return 0\n",
    "        return words[category][word]['n_ocur']\n",
    "\n",
    "    for category in words:\n",
    "        top_words[category] = sorted(words[category], key=lambda x: each_word(category, x))[-N:][::-1]\n",
    "    \n",
    "    return top_words"
   ]
  },
  {
   "cell_type": "code",
   "execution_count": 931,
   "metadata": {
    "collapsed": false
   },
   "outputs": [
    {
     "name": "stdout",
     "output_type": "stream",
     "text": [
      "{'religion': ['muslims', 'muslim', 'idiot', 'christian', 'idiots', 'islamic', 'islam', 'terrorism', 'radical', 'right', 'support', 'woman', 'terrorist', 'isis', 'against', 'terrorists', 'quran', 'christians', 'religion', 'humanity'], 'ethnicity': ['dumb', 'fuck', 'nigger', 'ass', 'black', 'white', 'niggers', 'obama', 'bitch', 'called', 'racism', 'shit', 'fucking', '@tayyoung', 'racist', 'negro', 'disgusting', 'colored', 'mad', 'man'], 'other_cyberbullying': ['bully', 'fucking', 'hate', 'bullied', 'bullying', 'women', 'idiot', 'bad', 'ass', '@freebsdgirl', 'lol', 'feminazi', 'stop', 'things', 'fuck', 'right', 'love', 'thing', 'pretty', 'blameonenotall'], 'gender': ['rape', 'gay', 'jokes', 'joke', 'sexist', 'women', 'bitch', 'female', 'funny', 'men', 'man', 'fucking', 'gays', 'bitches', 'feminazi', 'females', 'prison', 'girls', 'woman', 'hate'], 'age': ['school', 'high', 'bullied', 'bully', 'girls', 'girl', 'bullies', 'middle', 'kids', 'friends', 'schools', 'life', 'bullying', 'shit', 'kid', 'grade', 'everyone', 'year', 'look', 'feel'], 'not_cyberbullying': ['bullying', 'bully', 'school', 'kat', 'andre', 'love', 'lol', 'class', 'women', 'shit', 'right', 'isis', 'stop', 'fuck', 'bad', 'hate', 'ever', 'bullied', 'fucking', 'islam']}\n"
     ]
    }
   ],
   "source": [
    "N = 20\n",
    "top_words = topNwords(df_tweets_train, words_categories, N, skip_top)\n",
    "print(top_words)"
   ]
  },
  {
   "cell_type": "markdown",
   "metadata": {},
   "source": [
    "### 5. Vector de Característiques\n",
    "\n",
    "#### **EXERCICI 6:** \n",
    "\n",
    "Creeu el vector de característiques necessari per a fer l’entrenament del Naïve Bayes amb la funció ``create_features``.\n",
    "\n",
    "El resultat serà un diccionari tipus (no necessàriament amb aquest valors):\n",
    "\n",
    "```python\n",
    "{\n",
    "    0: np.array([0, 1, 1, 0, ...]),\n",
    "    1: np.array([0, 1, 1, 1, ...]),\n",
    "    ...\n",
    "}\n",
    "```"
   ]
  },
  {
   "cell_type": "code",
   "execution_count": 932,
   "metadata": {},
   "outputs": [],
   "source": [
    "def create_features(df, top_words): \n",
    "    \"\"\"\n",
    "    :params df: DataFrame amb les piulades i la informació associada\n",
    "    :params top_words: ha de ser el diccionari que retorna topNWords\n",
    "    :return : diccionari o pd.Series que conté un np.array per a \n",
    "        cadascuna de les piulades amb el vector de característiques corresponent.\n",
    "    \"\"\"\n",
    "    \n",
    "    # el vostre codi aquí\n",
    "    dict_feat_vector = {}\n",
    "    \n",
    "    for index, row in df.iterrows():\n",
    "        tweet = row['tweet_text']  \n",
    "        category = row['cyberbullying_type']\n",
    "        # Inicialitza el vector de característiques amb zeros\n",
    "        feat_vector = np.zeros(len(top_words[category])*len(top_words), dtype=int)\n",
    "        # Per cada paraula clau en top_words, comprova si està present a la piulada\n",
    "        x = 0\n",
    "        for category, words in top_words.items():\n",
    "            for i, word in enumerate(words):\n",
    "                if word in standardize(tweet):\n",
    "                    feat_vector[i + x*len(top_words[category])] = 1\n",
    "            x += 1\n",
    "        # Assigna el vector de característiques al diccionari\n",
    "        dict_feat_vector[index] = feat_vector\n",
    "\n",
    "    return dict_feat_vector"
   ]
  },
  {
   "cell_type": "code",
   "execution_count": 933,
   "metadata": {
    "tags": []
   },
   "outputs": [],
   "source": [
    "N = 30 # Aquest parametre el podem canviar i fer proves per avaluar quin és el millor valor.\n",
    "words_categories = count_words_categories(df_tweets_train)\n",
    "top_words = topNwords(df_tweets_train, words_categories, N, skip_top)\n",
    "dict_feat_vector = create_features(df_tweets_train, top_words)"
   ]
  },
  {
   "cell_type": "code",
   "execution_count": 934,
   "metadata": {},
   "outputs": [
    {
     "data": {
      "text/plain": "38153"
     },
     "execution_count": 934,
     "metadata": {},
     "output_type": "execute_result"
    }
   ],
   "source": [
    "len(dict_feat_vector)"
   ]
  },
  {
   "cell_type": "markdown",
   "metadata": {},
   "source": [
    "### 6. El classificador Naïve Bayes\n",
    "\n",
    "Un cop tenim una representació necessitem un procés d'aprenentatge que ens permeti passar de la descripció a una categoria. \n",
    "En aquest lliurament farem servir el classificador Naïve Bayes. \n",
    "Aquest classificador forma part de la família de classificadors probabilístics. \n",
    "La sortida d'un classificador probabilístic és un valor de probabilitat donat un exemple per cadascuna de les categories. \n",
    "La decisió final correspon a la categoria amb més probabilitat. \n",
    "\n",
    "\n",
    "Els classificadors probabilistics Bayesians es basen en el teorema de Bayes per realitzar els càlculs per estimar la probabilitat condicionada $p(y|x)$, on $y$ és la categoria i $\\mathbf x$ les característiques de l'exemple.\n",
    "\n",
    "La fòrmula de Bayes és fàcil de deduir. Sabem que:\n",
    "\n",
    "$$ p(\\mathbf x,y) = p(\\mathbf x|y)p(y) = p(y|\\mathbf x)p(\\mathbf x)$$\n",
    "d'on podem extreure que: \n",
    "$$ p(y|\\mathbf x) = \\frac{p(\\mathbf x|y)p(y)}{p(\\mathbf x)}$$\n",
    "\n",
    "\n",
    "La millor categoria serà la que fa màxima la probabilitat $ p(y|\\mathbf x)$ i per comparar aquests valors i saber quin és el màxim no cal calcular $p(\\mathbf x)$ (que és constant). Per tant, considerarem que:\n",
    "$$ p(y|\\mathbf x) \\approx p(y) · p(\\mathbf x|y)$$\n",
    "\n",
    "\n",
    "Les deduccions fins a aquest punt són vàlides per la majoria de classificadors Bayesians. \n",
    "Naïve Bayes es distingeix de la resta perquè imposa una condició encara més restrictiva. \n",
    "Considerem $\\mathbf x=(x_1, \\cdots, x_n)$ un conjunt d'$N$ variables aleatòries (en el nostre cas, les paraules seleccionades). \n",
    "Naïve Bayes assumeix que la probabilitat de la presència d'una paraula en una piulada és independent de la presència d'una altra i per tant podem escriure:\n",
    "$$p(x_1,x_2,...,x_N | y) = p(x_1|y)p(x_2|y)...p(x_N|y)$$\n",
    "\n",
    "\n",
    "Podem interpretar l'anterior equació de la següent forma: La probabilitat de que una piuldad descrita pel vector de característiques (0,1,0,1,1,1) sigui de la classe \"gender\" és proporcional al producte de la probabilitat que la primera paraula del vector no aparegui en les piulades sobre \"gender\" per la probabilitat que la segona paraula sí que hi aparegui, etc.\n",
    "\n",
    "\n",
    "**Estimant les probabilitats marginals condicionades**\n",
    "\n",
    "L'últim pas que ens queda és trobar el valor de les probabilitats condicionades. \n",
    "Farem servir la representació de $0$'s i $1$'s indicant que la paraula no apareix (0) o sí apareix (1) a la piulada. \n",
    "\n",
    "Per trobar el valor de la probabilitat condicionada farem servir una aproximació freqüentista a la probabilitat. \n",
    "Això vol dir que calcularem la freqüència d'aparició de cada paraula per a cada categoria. \n",
    "Aquest càlcul es fa dividint el nombre de piulades de la categoria en que apareix la paraula pel nombre total de piulades d'aquella categoria. \n",
    "\n",
    "En general:\n",
    "$$p(x = \\text{\"school\"} | y = C)= \\frac{A}{B} $$\n",
    "on $A$ és el número de piulades de la categoria $C$ on hi apareix la paraula 'school' i $B$ és el número total de piulades de la categoria $C$.\n",
    "\n",
    "\n",
    "#### Punts delicats a tenir en compte.\n",
    "\n",
    "**El problema de la probabilitat 0**\n",
    "\n",
    "Si us hi fixeu bé, la probabilitat pot ser 0!!  Això vol dir, que si en una piulada no hi apareix una paraula, no pot ser classificada com cap tipus de *cyber bullying* (la presència del 0 al producte fa que el resultat sigui 0).\n",
    "\n",
    "No sembla raonable que s'assigni o no en aquesta categoria segons si en la piulada hi apareix o no una única paraula. \n",
    "Per tant, el que s'acostuma a fer és donar una baixa probabilitat en comptes de zero. \n",
    "\n",
    "Una de les possibles solucions es fer servir la correcció de Laplace. Seguint l'exemple anterior la correcció de Laplace és:\n",
    "\n",
    "$$p(x= \\text{\"school\"} | y = 'C' ) = \\frac{A+1}{B+M}$$ \n",
    "\n",
    "on $M$ és el nombre de categories.\n",
    "\n",
    "**El problema de l'\"underflow\"**\n",
    "\n",
    "La valor que hem de calcular en el Naive Bayes és el resultat d'un producte. \n",
    "El nombre de caractéristiques del vector és el nombre de termes del producte. \n",
    "Aquests nombres són iguals o menors a 1 i n'hi ha molts, si els multipliquem entre ells el resultat serà massa petit per a representar-lo en un nombre de punt flotant i el càlcul acabarà sent reduït a zero. \n",
    "\n",
    "Per solucionar aquest problema en comptes d'operar fent multiplicacions, se sol passar a l'escala logarítmica i allà operar fent servir sumes en comptes de multiplicacions."
   ]
  },
  {
   "cell_type": "markdown",
   "metadata": {},
   "source": [
    "#### **EXERCICI 7:** \n",
    "\n",
    "+ Implementeu la funció d'aprenentatge del classificador Naïve Bayes (funció ``naive_bayes_learn()``) que retorni un diccionari amb estructura `{categoria: [P0, ..., PN]}` on la llista representa la probabilitat\n",
    "marginal condicionada de cada paraula del vector de característiques per la categoria corresponent. \n",
    "\n",
    "+ Implementeu la funció ``naive_bayes`` que implementa el classificador. Noteu que aquesta funció está guiada i només haureu d'emplenar els espais on hem posat tres punts suspensius \"#···\".  "
   ]
  },
  {
   "cell_type": "code",
   "execution_count": 935,
   "metadata": {},
   "outputs": [],
   "source": [
    "def naive_bayes_learn(df, feats):\n",
    "    \"\"\"\n",
    "    :params df: DataFrame amb les piulades i la informació associada\n",
    "    :params feats: vector de característiques de cada piulada\n",
    "    :return : probabilitats marginals condicionades\n",
    "    \"\"\"\n",
    "\n",
    "    # El vostre codi aquí\n",
    "    probs = dict()\n",
    "    # Agafem tots els tipus de piolades\n",
    "    c_type = df['cyberbullying_type'].unique()\n",
    "    for category in c_type:\n",
    "        # Filtrar el DataFrame per la categoria\n",
    "        category_df = df[df['cyberbullying_type'] == category]\n",
    "        tweet_indexes= category_df.index.tolist()\n",
    "        # Nombre de piulades per aquest tipus\n",
    "        total_tweets_in_category = len(category_df)\n",
    "        feature_array = np.zeros(len(feats[tweet_indexes[0]]), dtype = float)\n",
    "        # Sumem les característiques de tots els tweets de la categoria\n",
    "        for index in tweet_indexes:\n",
    "            feature_array += feats[index]\n",
    "        for position, feature in enumerate(feature_array):\n",
    "            # Calculem la probabilitat per aquesta paraula\n",
    "            feature_array[position] = (feature + 1) / (total_tweets_in_category + len(c_type))\n",
    "        # Afegim les probabilitats d'aquest tipus al diccionari\n",
    "        probs[category] = feature_array\n",
    "    return probs"
   ]
  },
  {
   "cell_type": "code",
   "execution_count": 936,
   "metadata": {},
   "outputs": [],
   "source": [
    "import sys\n",
    "from IPython import embed\n",
    "def naive_bayes(df_train, feat_train, feat_test=None, df_test=None):\n",
    "    \"\"\"\n",
    "    Funció que implementa el clasificador Naive_Bayes.\n",
    "    \n",
    "    Si df_test no és None, ha de calcular l'encert sobre les dades de test. És a dir,\n",
    "    després de classificar feat_test ha de comparar la classificació amb la classe\n",
    "    real i dir (print) quin percentatge d'encert ha obtingut.\n",
    "    \n",
    "    :param df_train: DataFrame amb les piulades que s'utilitzaran per l'entrenament\n",
    "    :param feat_train: Diccionari amb els vectors de caracteristiques de cada tweet de l'entrenament\n",
    "    :param feat_test: Diccionari amb els vectors de caracteristiques de cada tweet de test\n",
    "    :param df_test: DataFrame amb les piulades que s'utilitzaran pel test\n",
    "    \n",
    "    :return : Una serie on l'index correspon amb els indexos de df_test i els valors són la\n",
    "              classificació retornada per Naive Bayes\n",
    "    \"\"\"\n",
    "    probs = naive_bayes_learn(df_train, feat_train)\n",
    "    p_of_cat = count_words_categories(df_train)\n",
    "    p_total = len(p_of_cat.keys())\n",
    "    \n",
    "    def eachFeats(row):\n",
    "        id, feat = row\n",
    "        p_max = float('-inf')\n",
    "        p_cat = 0\n",
    "\n",
    "        for category in probs:\n",
    "            # Speed up by using numpy\n",
    "            # inv is the inverse of features, 0 where 1 and 1 where 0\n",
    "            # ...\n",
    "            inverse = np.logical_not(feat).astype(int)\n",
    "            # Probs * feats is the probability of being there, while\n",
    "            # inv - inv * feat = 1 - (0, 1, 0... inverses) * probs, probability of not being there\n",
    "            # ...\n",
    "            prob = np.log(probs[category])\n",
    "            prob_inverse = np.log(1 - probs[category])\n",
    "            # Sum of logs [vs] underflow caused by mul of probs\n",
    "            # ...\n",
    "            sum_logs_vs = np.sum(prob * feat + prob_inverse * inverse)\n",
    "            # Take the max, do it now to avoid extra-loops\n",
    "            # ...\n",
    "            if sum_logs_vs > p_max:\n",
    "                p_max = sum_logs_vs\n",
    "                p_cat = category\n",
    "        return id, p_cat\n",
    "    \n",
    "    data = map(eachFeats, feat_test.items())\n",
    "    data = pd.Series(dict(data))\n",
    "    correct = data == df_test['cyberbullying_type']\n",
    "    print(\"Accuracy: {}\".format(correct.sum() / correct.size))\n",
    "    \n",
    "    return correct.sum() / correct.size"
   ]
  },
  {
   "cell_type": "code",
   "execution_count": 937,
   "metadata": {},
   "outputs": [],
   "source": [
    "N = 20 # Aquest parametre el podeu canviar i fer proves per avaluar quin és el millor valor.\n",
    "\n",
    "words_topics = count_words_categories(df_tweets_train)\n",
    "top_words = topNwords(df_tweets_train, words_topics, N, skip_top)\n",
    "\n",
    "feat_train = create_features(df_tweets_train, top_words)\n",
    "feat_test = create_features(df_tweets_test, top_words)"
   ]
  },
  {
   "cell_type": "code",
   "execution_count": 938,
   "metadata": {},
   "outputs": [
    {
     "name": "stdout",
     "output_type": "stream",
     "text": [
      "Accuracy: 0.7383373519236818\n"
     ]
    }
   ],
   "source": [
    "accuracy = naive_bayes(df_tweets_train, feat_train, feat_test, df_tweets_test)"
   ]
  },
  {
   "cell_type": "markdown",
   "metadata": {},
   "source": [
    "Haurieu d'obtenir una precisió del 67-70%. "
   ]
  },
  {
   "cell_type": "markdown",
   "metadata": {},
   "source": [
    "#### **EXERCICI 8:** "
   ]
  },
  {
   "cell_type": "markdown",
   "metadata": {},
   "source": [
    "El possible procediment per tal d'aconseguir una major precisió seria el següent:\n",
    "+ Es poden implementar diverses maneres d'escollir quines *stopwords* volem eliminar en les piuldades per a que no formin part dels vectors de característiques.\n",
    "+ Avaluar quin conjunt d'*stopwords* retorna una precisió major per a N=40. \n",
    "+ Un cop tinguem el vector d'*stopwords* amb millors resultats, el testejarem per a diferents $N$'s per a veure quina és el nombre de *stopwords* òptim.\n",
    "\n",
    "Feu una cerca a Intenet per trobar més estratègies i intenteu millorar l'*accuracy* que heu acosneguit fins ara.\n",
    "\n",
    "Amb això podeu arribar a precisions superiors al 80%."
   ]
  },
  {
   "cell_type": "code",
   "execution_count": 939,
   "metadata": {
    "collapsed": false
   },
   "outputs": [
    {
     "data": {
      "text/plain": "'\\n    Hem provat de utilitzar la llibreria NLTK per utilitzar la llista de stop words que proporcionen però la accuracy no millora considerablement per tant seguirem utilitzan la llista custom nostre que hem estat fent servir fins ara i altres stop words\\n'"
     },
     "execution_count": 939,
     "metadata": {},
     "output_type": "execute_result"
    }
   ],
   "source": [
    "\n",
    "#from nltk.corpus import stopwords\n",
    "#nltk_stop_words = set(stopwords.words('english'))\n",
    "'''\n",
    "    Hem provat de utilitzar la llibreria NLTK per utilitzar la llista de stop words que proporcionen però la accuracy no millora considerablement per tant seguirem utilitzan la llista custom nostre que hem estat fent servir fins ara i altres stop words\n",
    "'''"
   ]
  },
  {
   "cell_type": "code",
   "execution_count": 940,
   "metadata": {},
   "outputs": [],
   "source": [
    "skip_top_accuracy = [\"able\",\"about\",\"above\",\"abroad\",\"according\",\"accordingly\",\"across\",\"actually\",\"adj\",\"after\",\"afterwards\",\"again\",\"against\",\"ago\",\"ahead\",\"ain't\",\"all\",\"allow\",\"allows\",\"almost\",\"alone\",\"along\",\"alongside\",\"already\",\"also\",\"although\",\"always\",\"am\",\"amid\",\"amidst\",\"among\",\"amongst\",\"an\",\"and\",\"another\",\"any\",\"anybody\",\"anyhow\",\"anyone\",\"anything\",\"anyway\",\"anyways\",\"anywhere\",\"apart\",\"appear\",\"appreciate\",\"appropriate\",\"are\",\"aren't\",\"around\",\"as\",\"a's\",\"aside\",\"ask\",\"asking\",\"associated\",\"at\",\"available\",\"away\",\"awfully\",\"back\",\"backward\",\"backwards\",\"be\",\"became\",\"because\",\"become\",\"becomes\",\"becoming\",\"been\",\"before\",\"beforehand\",\"begin\",\"behind\",\"being\",\"believe\",\"below\",\"beside\",\"besides\",\"best\",\"better\",\"between\",\"beyond\",\"both\",\"brief\",\"but\",\"by\",\"came\",\"can\",\"cannot\",\"cant\",\"can't\",\"caption\",\"cause\",\"causes\",\"certain\",\"certainly\",\"changes\",\"clearly\",\"c'mon\",\"co\",\"co.\",\"com\",\"come\",\"comes\",\"concerning\",\"consequently\",\"consider\",\"considering\",\"contain\",\"containing\",\"contains\",\"corresponding\",\"could\",\"couldn't\",\"course\",\"c's\",\"currently\",\"dare\",\"daren't\",\"definitely\",\"described\",\"despite\",\"did\",\"didn't\",\"different\",\"directly\",\"do\",\"does\",\"doesn't\",\"doing\",\"done\",\"don't\",\"down\",\"downwards\",\"during\",\"each\",\"edu\",\"eg\",\"eight\",\"eighty\",\"either\",\"else\",\"elsewhere\",\"end\",\"ending\",\"enough\",\"entirely\",\"especially\",\"et\",\"etc\",\"even\",\"ever\",\"evermore\",\"every\",\"everybody\",\"everyone\",\"everything\",\"everywhere\",\"ex\",\"exactly\",\"example\",\"except\",\"fairly\",\"far\",\"farther\",\"few\",\"fewer\",\"fifth\",\"first\",\"five\",\"followed\",\"following\",\"follows\",\"for\",\"forever\",\"former\",\"formerly\",\"forth\",\"forward\",\"found\",\"four\",\"from\",\"further\",\"furthermore\",\"get\",\"gets\",\"getting\",\"given\",\"gives\",\"go\",\"goes\",\"going\",\"gone\",\"got\",\"gotten\",\"greetings\",\"had\",\"hadn't\",\"half\",\"happens\",\"hardly\",\"has\",\"hasn't\",\"have\",\"haven't\",\"having\",\"he\",\"he'd\",\"he'll\",\"hello\",\"help\",\"hence\",\"her\",\"here\",\"hereafter\",\"hereby\",\"herein\",\"here's\",\"hereupon\",\"hers\",\"herself\",\"he's\",\"hi\",\"him\",\"himself\",\"his\",\"hither\",\"hopefully\",\"how\",\"howbeit\",\"however\",\"hundred\",\"i'd\",\"ie\",\"if\",\"ignored\",\"i'll\",\"i'm\",\"immediate\",\"in\",\"inasmuch\",\"inc\",\"inc.\",\"indeed\",\"indicate\",\"indicated\",\"indicates\",\"inner\",\"inside\",\"insofar\",\"instead\",\"into\",\"inward\",\"is\",\"isn't\",\"it\",\"it'd\",\"it'll\",\"its\",\"it's\",\"itself\",\"i've\",\"just\",\"k\",\"keep\",\"keeps\",\"kept\",\"know\",\"known\",\"knows\",\"last\",\"lately\",\"later\",\"latter\",\"latterly\",\"least\",\"less\",\"lest\",\"let\",\"let's\",\"like\",\"liked\",\"likely\",\"likewise\",\"little\",\"look\",\"looking\",\"looks\",\"low\",\"lower\",\"ltd\",\"made\",\"mainly\",\"make\",\"makes\",\"many\",\"may\",\"maybe\",\"mayn't\",\"me\",\"mean\",\"meantime\",\"meanwhile\",\"merely\",\"might\",\"mightn't\",\"mine\",\"minus\",\"miss\",\"more\",\"moreover\",\"most\",\"mostly\",\"mr\",\"mrs\",\"much\",\"must\",\"mustn't\",\"my\",\"myself\",\"name\",\"namely\",\"nd\",\"near\",\"nearly\",\"necessary\",\"need\",\"needn't\",\"needs\",\"neither\",\"never\",\"neverf\",\"neverless\",\"nevertheless\",\"new\",\"next\",\"nine\",\"ninety\",\"no\",\"nobody\",\"non\",\"none\",\"nonetheless\",\"noone\",\"no-one\",\"nor\",\"normally\",\"not\",\"nothing\",\"notwithstanding\",\"novel\",\"now\",\"nowhere\",\"obviously\",\"of\",\"off\",\"often\",\"oh\",\"ok\",\"okay\",\"old\",\"on\",\"once\",\"one\",\"ones\",\"one's\",\"only\",\"onto\",\"opposite\",\"or\",\"other\",\"others\",\"otherwise\",\"ought\",\"oughtn't\",\"our\",\"ours\",\"ourselves\",\"out\",\"outside\",\"over\",\"overall\",\"own\",\"particular\",\"particularly\",\"past\",\"per\",\"perhaps\",\"placed\",\"please\",\"plus\",\"possible\",\"presumably\",\"probably\",\"provided\",\"provides\",\"que\",\"quite\",\"qv\",\"rather\",\"rd\",\"re\",\"really\",\"reasonably\",\"recent\",\"recently\",\"regarding\",\"regardless\",\"regards\",\"relatively\",\"respectively\",\"right\",\"round\",\"said\",\"same\",\"saw\",\"say\",\"saying\",\"says\",\"second\",\"secondly\",\"see\",\"seeing\",\"seem\",\"seemed\",\"seeming\",\"seems\",\"seen\",\"self\",\"selves\",\"sensible\",\"sent\",\"serious\",\"seriously\",\"seven\",\"several\",\"shall\",\"shan't\",\"she\",\"she'd\",\"she'll\",\"she's\",\"should\",\"shouldn't\",\"since\",\"six\",\"so\",\"some\",\"somebody\",\"someday\",\"somehow\",\"someone\",\"something\",\"sometime\",\"sometimes\",\"somewhat\",\"somewhere\",\"soon\",\"sorry\",\"specified\",\"specify\",\"specifying\",\"still\",\"sub\",\"such\",\"sup\",\"sure\",\"take\",\"taken\",\"taking\",\"tell\",\"tends\",\"th\",\"than\",\"thank\",\"thanks\",\"thanx\",\"that\",\"that'll\",\"thats\",\"that's\",\"that've\",\"the\",\"their\",\"theirs\",\"them\",\"themselves\",\"then\",\"thence\",\"there\",\"thereafter\",\"thereby\",\"there'd\",\"therefore\",\"therein\",\"there'll\",\"there're\",\"theres\",\"there's\",\"thereupon\",\"there've\",\"these\",\"they\",\"they'd\",\"they'll\",\"they're\",\"they've\",\"thing\",\"things\",\"think\",\"third\",\"thirty\",\"this\",\"thorough\",\"thoroughly\",\"those\",\"though\",\"three\",\"through\",\"throughout\",\"thru\",\"thus\",\"till\",\"to\",\"together\",\"too\",\"took\",\"toward\",\"towards\",\"tried\",\"tries\",\"truly\",\"try\",\"trying\",\"t's\",\"twice\",\"two\",\"un\",\"under\",\"underneath\",\"undoing\",\"unfortunately\",\"unless\",\"unlike\",\"unlikely\",\"until\",\"unto\",\"up\",\"upon\",\"upwards\",\"us\",\"use\",\"used\",\"useful\",\"uses\",\"using\",\"usually\",\"v\",\"value\",\"various\",\"versus\",\"very\",\"via\",\"viz\",\"vs\",\"want\",\"wants\",\"was\",\"wasn't\",\"way\",\"we\",\"we'd\",\"welcome\",\"well\",\"we'll\",\"went\",\"were\",\"we're\",\"weren't\",\"we've\",\"what\",\"whatever\",\"what'll\",\"what's\",\"what've\",\"when\",\"whence\",\"whenever\",\"where\",\"whereafter\",\"whereas\",\"whereby\",\"wherein\",\"where's\",\"whereupon\",\"wherever\",\"whether\",\"which\",\"whichever\",\"while\",\"whilst\",\"whither\",\"who\",\"who'd\",\"whoever\",\"whole\",\"who'll\",\"whom\",\"whomever\",\"who's\",\"whose\",\"why\",\"will\",\"willing\",\"wish\",\"with\",\"within\",\"without\",\"wonder\",\"won't\",\"would\",\"wouldn't\",\"yes\",\"yet\",\"you\",\"you'd\",\"you'll\",\"your\",\"you're\",\"yours\",\"yourself\",\"yourselves\",\"you've\",\"zero\",\"a\",\"how's\",\"i\",\"when's\",\"why's\",\"b\",\"c\",\"d\",\"e\",\"f\",\"g\",\"h\",\"j\",\"l\",\"m\",\"n\",\"o\",\"p\",\"q\",\"r\",\"s\",\"t\",\"u\",\"uucp\",\"w\",\"x\",\"y\",\"z\",\"I\",\"www\",\"amount\",\"bill\",\"bottom\",\"call\",\"computer\",\"con\",\"couldnt\",\"cry\",\"de\",\"describe\",\"detail\",\"due\",\"eleven\",\"empty\",\"fifteen\",\"fifty\",\"fill\",\"find\",\"fire\",\"forty\",\"front\",\"full\",\"give\",\"hasnt\",\"herse\",\"himse\",\"interest\",\"itse”\",\"mill\",\"move\",\"myse”\",\"part\",\"put\",\"show\",\"side\",\"sincere\",\"sixty\",\"system\",\"ten\",\"thick\",\"thin\",\"top\",\"twelve\",\"twenty\",\"abst\",\"accordance\",\"act\",\"added\",\"adopted\",\"affected\",\"affecting\",\"affects\",\"ah\",\"announce\",\"anymore\",\"apparently\",\"approximately\",\"aren\",\"arent\",\"arise\",\"auth\",\"beginning\",\"beginnings\",\"begins\",\"biol\",\"briefly\",\"ca\",\"date\",\"ed\",\"effect\",\"et-al\",\"ff\",\"fix\",\"gave\",\"giving\",\"heres\",\"hes\",\"hid\",\"home\",\"id\",\"im\",\"immediately\",\"importance\",\"important\",\"index\",\"information\",\"invention\",\"itd\",\"keys\",\"kg\",\"km\",\"largely\",\"lets\",\"line\",\"'ll\",\"means\",\"mg\",\"million\",\"ml\",\"mug\",\"na\",\"nay\",\"necessarily\",\"nos\",\"noted\",\"obtain\",\"obtained\",\"omitted\",\"ord\",\"owing\",\"page\",\"pages\",\"poorly\",\"possibly\",\"potentially\",\"pp\",\"predominantly\",\"present\",\"previously\",\"primarily\",\"promptly\",\"proud\",\"quickly\",\"ran\",\"readily\",\"ref\",\"refs\",\"related\",\"research\",\"resulted\",\"resulting\",\"results\",\"run\",\"sec\",\"section\",\"shed\",\"shes\",\"showed\",\"shown\",\"showns\",\"shows\",\"significant\",\"significantly\",\"similar\",\"similarly\",\"slightly\",\"somethan\",\"specifically\",\"state\",\"states\",\"stop\",\"strongly\",\"substantially\",\"successfully\",\"sufficiently\",\"suggest\",\"thered\",\"thereof\",\"therere\",\"thereto\",\"theyd\",\"theyre\",\"thou\",\"thoughh\",\"thousand\",\"throug\",\"til\",\"tip\",\"ts\",\"twitter\",\"ups\",\"usefully\",\"usefulness\",\"'ve\",\"vol\",\"vols\",\"wed\",\"whats\",\"wheres\",\"whim\",\"whod\",\"whos\",\"widely\",\"words\",\"world\",\"youd\",\"youre\",]"
   ]
  },
  {
   "cell_type": "code",
   "execution_count": 941,
   "metadata": {
    "collapsed": false
   },
   "outputs": [],
   "source": [
    "N = 41 # Aquest parametre el podeu canviar i fer proves per avaluar quin és el millor valor.\n",
    "\n",
    "words_topics_accuracy = count_words_categories(df_tweets_train)\n",
    "top_words_accuracy = topNwords(df_tweets_train, words_topics_accuracy, N, skip_top_accuracy)\n",
    "\n",
    "feat_train_accuracy = create_features(df_tweets_train, top_words_accuracy)\n",
    "feat_test_accuracy = create_features(df_tweets_test, top_words_accuracy)"
   ]
  },
  {
   "cell_type": "code",
   "execution_count": 942,
   "metadata": {},
   "outputs": [
    {
     "name": "stdout",
     "output_type": "stream",
     "text": [
      "Accuracy: 0.7623440612223503\n"
     ]
    }
   ],
   "source": [
    "accuracy_increment = naive_bayes(df_tweets_train, feat_train_accuracy, feat_test_accuracy, df_tweets_test)"
   ]
  },
  {
   "cell_type": "code",
   "execution_count": 942,
   "outputs": [],
   "source": [],
   "metadata": {
    "collapsed": false
   }
  }
 ],
 "metadata": {
  "kernelspec": {
   "display_name": "Python 3 (ipykernel)",
   "language": "python",
   "name": "python3"
  },
  "language_info": {
   "codemirror_mode": {
    "name": "ipython",
    "version": 3
   },
   "file_extension": ".py",
   "mimetype": "text/x-python",
   "name": "python",
   "nbconvert_exporter": "python",
   "pygments_lexer": "ipython3",
   "version": "3.11.6"
  }
 },
 "nbformat": 4,
 "nbformat_minor": 4
}
